{
 "cells": [
  {
   "cell_type": "markdown",
   "id": "d0540dc1-b732-4136-95ac-da54637dc7c8",
   "metadata": {},
   "source": [
    "# Bi-Elliptic Transfer: Earth → Mars (analytic, multi-case)\n",
    "\n",
    "This notebook computes analytic bi-elliptic transfer solutions between circular,\n",
    "coplanar heliocentric orbits (Earth → Mars) using the classical impulsive model.\n",
    "\n",
    "For each chosen intermediate apogee radius r_b (a multiple of Earth's radius r1),\n",
    "the notebook computes:\n",
    "- Δv at r1 (raise to first ellipse),\n",
    "- Δv at r_b (switch ellipse at apogee),\n",
    "- Δv at r2 (circularize at target),\n",
    "- total Δv (sum of three impulses),\n",
    "- time-of-flight (sum of half-periods of both transfer ellipses),\n",
    "- propellant estimate via the rocket equation (single-stage impulsive approx).\n",
    "\n",
    "Results are saved to `results/bielliptic_summary.csv`."
   ]
  },
  {
   "cell_type": "code",
   "execution_count": 2,
   "id": "b74a0dc0-e9a1-42c7-a080-ca1bd760d9a2",
   "metadata": {},
   "outputs": [],
   "source": [
    "import numpy as np\n",
    "import math\n",
    "import os\n",
    "import csv\n",
    "import matplotlib.pyplot as plt\n",
    "\n",
    "# Physical constants (SI)\n",
    "MU_SUN = 1.32712440018e20      # m^3 / s^2 (Sun)\n",
    "AU = 1.495978707e11            # m\n",
    "DAY = 86400.0\n"
   ]
  },
  {
   "cell_type": "code",
   "execution_count": 3,
   "id": "2acfc1e8-cd91-466f-9c3a-f22be617b8d4",
   "metadata": {},
   "outputs": [],
   "source": [
    "# Problem parameters\n",
    "r1 = 1.0 * AU           # Earth radius (m)\n",
    "r2 = 1.524 * AU         # Mars radius (m)\n",
    "\n",
    "# Bi-elliptic cases: factors of r1 to use for r_b (choose > r2/r1 to be interesting)\n",
    "bi_factors = [2.0, 5.0, 10.0, 20.0]   # r_b = factor * r1\n",
    "\n",
    "# Propulsion / mass assumptions (for propellant estimate)\n",
    "wet_mass_kg = 1000.0\n",
    "Isp_s = 320.0\n",
    "g0 = 9.80665\n",
    "\n",
    "# Output\n",
    "out_dir = \"results\"\n",
    "os.makedirs(out_dir, exist_ok=True)\n",
    "summary_csv = os.path.join(out_dir, \"bielliptic_summary.csv\")\n"
   ]
  },
  {
   "cell_type": "code",
   "execution_count": null,
   "id": "959e64c7-dc05-454e-b480-24d914bf3469",
   "metadata": {},
   "outputs": [],
   "source": []
  }
 ],
 "metadata": {
  "kernelspec": {
   "display_name": "Python (poliastro-env)",
   "language": "python",
   "name": "poliastro-env"
  },
  "language_info": {
   "codemirror_mode": {
    "name": "ipython",
    "version": 3
   },
   "file_extension": ".py",
   "mimetype": "text/x-python",
   "name": "python",
   "nbconvert_exporter": "python",
   "pygments_lexer": "ipython3",
   "version": "3.10.18"
  }
 },
 "nbformat": 4,
 "nbformat_minor": 5
}
